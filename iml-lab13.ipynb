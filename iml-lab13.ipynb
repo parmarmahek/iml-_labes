{
 "cells": [
  {
   "cell_type": "code",
   "execution_count": 1,
   "id": "4eb88c9c",
   "metadata": {
    "_cell_guid": "b1076dfc-b9ad-4769-8c92-a6c4dae69d19",
    "_uuid": "8f2839f25d086af736a60e9eeb907d3b93b6e0e5",
    "execution": {
     "iopub.execute_input": "2023-11-05T12:31:43.279858Z",
     "iopub.status.busy": "2023-11-05T12:31:43.279254Z",
     "iopub.status.idle": "2023-11-05T12:31:44.461507Z",
     "shell.execute_reply": "2023-11-05T12:31:44.460067Z"
    },
    "papermill": {
     "duration": 1.187672,
     "end_time": "2023-11-05T12:31:44.463591",
     "exception": false,
     "start_time": "2023-11-05T12:31:43.275919",
     "status": "completed"
    },
    "tags": []
   },
   "outputs": [
    {
     "name": "stdout",
     "output_type": "stream",
     "text": [
      "Accuracy of K-NN with k=3: 0.81\n"
     ]
    }
   ],
   "source": [
    "\n",
    "#parmar mahek\n",
    "#216270307010\n",
    "from sklearn.model_selection import train_test_split\n",
    "from sklearn.neighbors import KNeighborsClassifier\n",
    "from sklearn import datasets\n",
    "from sklearn.metrics import accuracy_score\n",
    "data = datasets.load_wine()\n",
    "X = data.data  # Features\n",
    "y = data.target  # Target variable (class labels)\n",
    "\n",
    "X_train, X_test, y_train, y_test = train_test_split(X, y, test_size=0.2, random_state=42)\n",
    "k=3\n",
    "knn = KNeighborsClassifier(n_neighbors=k)\n",
    "\n",
    "# Train the classifier on the training data\n",
    "knn.fit(X_train, y_train)\n",
    "\n",
    "# Make predictions on the test data\n",
    "y_pred = knn.predict(X_test)\n",
    "\n",
    "# Calculate and print the accuracy of the K-NN model\n",
    "accuracy = accuracy_score(y_test, y_pred)\n",
    "print(f\"Accuracy of K-NN with k={k}: {accuracy:.2f}\")\n",
    "\n",
    "\n",
    "\n",
    "\n",
    "\n"
   ]
  },
  {
   "cell_type": "code",
   "execution_count": null,
   "id": "eca423a5",
   "metadata": {
    "papermill": {
     "duration": 0.002513,
     "end_time": "2023-11-05T12:31:44.467638",
     "exception": false,
     "start_time": "2023-11-05T12:31:44.465125",
     "status": "completed"
    },
    "tags": []
   },
   "outputs": [],
   "source": []
  }
 ],
 "metadata": {
  "kernelspec": {
   "display_name": "Python 3",
   "language": "python",
   "name": "python3"
  },
  "language_info": {
   "codemirror_mode": {
    "name": "ipython",
    "version": 3
   },
   "file_extension": ".py",
   "mimetype": "text/x-python",
   "name": "python",
   "nbconvert_exporter": "python",
   "pygments_lexer": "ipython3",
   "version": "3.10.12"
  },
  "papermill": {
   "default_parameters": {},
   "duration": 4.069005,
   "end_time": "2023-11-05T12:31:44.886870",
   "environment_variables": {},
   "exception": null,
   "input_path": "__notebook__.ipynb",
   "output_path": "__notebook__.ipynb",
   "parameters": {},
   "start_time": "2023-11-05T12:31:40.817865",
   "version": "2.4.0"
  }
 },
 "nbformat": 4,
 "nbformat_minor": 5
}
